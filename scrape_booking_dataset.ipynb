{
 "cells": [
  {
   "cell_type": "code",
   "execution_count": 1,
   "id": "3c7b78a9-5086-44da-8076-aec6d7ac97ad",
   "metadata": {},
   "outputs": [],
   "source": [
    "from selenium import webdriver\n",
    "from selenium.webdriver.common.by import By\n",
    "import time\n",
    "from datetime import date\n",
    "import os \n",
    "\n",
    "driver = webdriver.Chrome()\n",
    "driver.maximize_window()\n",
    "location_name = 'London'\n",
    "link = f'https://www.booking.com/searchresults.en-gb.html?ss={location_name}&efdco=1&label=gen173nr-1BCAEoggI46AdIM1gEaGyIAQGYAQm4AQfIAQzYAQHoAQGIAgGoAgO4AueF3b0GwAIB0gIkMjFkYTVhYTMtZWM5ZC00ZmYyLTkzMDktZjUxN2IxMzVjZTdk2AIF4AIB&sid=e926d54c76bc20f9416c4f573131702a&aid=304142&lang=en-gb&sb=1&src_elem=sb&src=searchresults&dest_id=209&dest_type=country&ac_position=1&ac_click_type=b&ac_langcode=en&ac_suggestion_list_length=5&search_selected=true&search_pageview_id=fed6315912140504&ac_meta=GhBmZWQ2MzE1OTEyMTQwNTA0IAEoATICZW46BlRoYWlsYUAASgBQAA%3D%3D&checkin=2025-09-08&checkout=2025-09-09&group_adults=2&no_rooms=1&group_children=0&flex_window=1' \n",
    "driver.get(link)"
   ]
  },
  {
   "cell_type": "code",
   "execution_count": 5,
   "id": "ac64d76b-a53b-4c48-8c8e-6ac590c5d949",
   "metadata": {},
   "outputs": [],
   "source": [
    "batch_count = 1 \n",
    "time.sleep(2)\n",
    "driver.execute_script(\"window.scrollTo(0, document.body.scrollHeight);\")\n",
    "time.sleep(2)\n",
    "driver.execute_script(\"window.scrollTo(0, document.body.scrollHeight);\")\n",
    "time.sleep(2)\n",
    "while batch_count <= 10: \n",
    "    driver.execute_script(\"window.scrollTo(0, document.body.scrollHeight);\")\n",
    "    time.sleep(3)\n",
    "    btn = driver.find_element(By.XPATH, '//*[@id=\"bodyconstraint-inner\"]//button[@class=\"de576f5064 b46cd7aad7 d0a01e3d83 dda427e6b5 bbf83acb81 a0ddd706cc\"]')\n",
    "    btn.click()\n",
    "    batch_count = batch_count + 1 "
   ]
  },
  {
   "cell_type": "code",
   "execution_count": 6,
   "id": "8a09b5b0-da78-41a0-8f7e-dea665727223",
   "metadata": {},
   "outputs": [],
   "source": [
    "import pandas as pd \n",
    "from bs4 import BeautifulSoup\n",
    "import requests\n",
    "import lxml"
   ]
  },
  {
   "cell_type": "code",
   "execution_count": 8,
   "id": "a24a49d1-1d28-4d60-a678-1c4b5b2a498d",
   "metadata": {
    "scrolled": true
   },
   "outputs": [],
   "source": [
    "header = {'User-Agent' : 'Mozilla/5.0 (Macintosh; Intel Mac OS X 10_15_7) AppleWebKit/537.36 (KHTML, like Gecko) Chrome/133.0.0.0 Safari/537.36'}"
   ]
  },
  {
   "cell_type": "code",
   "execution_count": 9,
   "id": "0bcde4a4-81d7-49e5-b175-1bf4112ff42d",
   "metadata": {},
   "outputs": [],
   "source": [
    "soup = BeautifulSoup(driver.page_source , 'lxml')"
   ]
  },
  {
   "cell_type": "code",
   "execution_count": 10,
   "id": "def59f3e-09d0-42f0-89ba-704855ffb453",
   "metadata": {},
   "outputs": [],
   "source": [
    "def get_locator_text_or_element(locator, get_locator=False): \n",
    "    if locator: \n",
    "        if get_locator:\n",
    "            return locator\n",
    "        return locator.text \n",
    "    else: \n",
    "        return None "
   ]
  },
  {
   "cell_type": "code",
   "execution_count": null,
   "id": "19ab5b81-d333-4fd2-a8f4-3974ac2eecba",
   "metadata": {},
   "outputs": [],
   "source": [
    "rows = []\n",
    "location_name = 'United Kingdom'\n",
    "for i in soup.find(role=\"list\").find_all(role=\"listitem\"):\n",
    "    title = get_locator_text_or_element(i.find(attrs={\"data-testid\":\"title\"}))\n",
    "    review_text = get_locator_text_or_element(i.find(attrs={\"class\":\"f63b14ab7a f546354b44 becbee2f63\"}))\n",
    "    sustainability_cert = get_locator_text_or_element(i.find(class_=\"fff1944c52 f546354b44 b79604af7c\"))\n",
    "    address = get_locator_text_or_element(i.find(attrs={\"data-testid\":\"address\"}))\n",
    "    total_reviews = get_locator_text_or_element(i.find(attrs={\"class\":\"fff1944c52 fb14de7f14 eaa8455879\"}))\n",
    "    review_score = get_locator_text_or_element(i.find(attrs={\"class\":\"f63b14ab7a dff2e52086\"}))\n",
    "    price_undiscounted_amount = get_locator_text_or_element(i.find(attrs={\"class\":\"fff1944c52 d68334ea31 ab607752a2\"}))\n",
    "    price_discounted_amount = get_locator_text_or_element(i.find(attrs={\"data-testid\":\"price-and-discounted-price\"}))\n",
    "    taxes_and_charges = get_locator_text_or_element(i.find(attrs={\"data-testid\":\"taxes-and-charges\"}))\n",
    "    booking_room_feature = get_locator_text_or_element(i.find(attrs={\"class\":\"fff1944c52 f254df5361\"}))\n",
    "    highly_rated_luxurious_stay = get_locator_text_or_element(i.find(attrs={\"class\":\"f88cca4051\"}))\n",
    "    \n",
    "    stars_list = get_locator_text_or_element(i.find(attrs={\"data-testid\":\"rating-stars\"}), get_locator=True)\n",
    "    if stars_list: \n",
    "        stars_list_count = len(stars_list.find_all(class_=\"e03979cfad\"))\n",
    "    else: \n",
    "        stars_list_count = None \n",
    "    \n",
    "    booking_room_details = i.find(attrs={\"class\":\"d1e8dce286\"})    \n",
    "    if (i.find(attrs={\"data-testid\":\"property-card-deal\"})):\n",
    "        deal_type_description = (i.find(attrs={\"data-testid\":\"property-card-deal\"}))['aria-label']\n",
    "        deal_type = (i.find(attrs={\"data-testid\":\"property-card-deal\"})).find('span').text \n",
    "    else: \n",
    "        deal_type = None \n",
    "        deal_type_description = None \n",
    "    red_text = get_locator_text_or_element(booking_room_details.find(class_='b7d3eb6716'))\n",
    "    free_cancellation = get_locator_text_or_element(booking_room_details.find(\"div\", class_='fff1944c52 cff4a33cd8'))\n",
    "    breakfast_included = get_locator_text_or_element(booking_room_details.find(\"span\", class_='d651523034'))\n",
    "    room_entire_text = get_locator_text_or_element(booking_room_details.find(\"div\", class_='ba43cae375'))\n",
    "    image_link = get_locator_text_or_element(i.find(attrs={\"data-testid\":\"property-card-container\"}), get_locator=True).find('img')['src']\n",
    "\n",
    "    rows.append([title,review_text,sustainability_cert,address,total_reviews,review_score,price_undiscounted_amount,price_discounted_amount,taxes_and_charges,booking_room_feature,red_text,room_entire_text,breakfast_included,free_cancellation,deal_type, deal_type_description,stars_list_count,highly_rated_luxurious_stay,image_link, location_name])\n",
    "\n",
    "df= pd.DataFrame(rows, columns=['title','review_text','sustainability_cert','address','total_reviews','review_score','price_undiscounted_amount','price_discounted_amount','taxes_and_charges','booking_room_feature','red_text','room_entire_text','breakfast_included','free_cancellation','deal_type','deal_type_description','stars_list_count','highly_rated_luxurious_stay','image_link','location_name'])"
   ]
  },
  {
   "cell_type": "code",
   "execution_count": 3,
   "id": "dd3fda24-f1ce-4c72-913d-f86b5d35fb5c",
   "metadata": {},
   "outputs": [
    {
     "ename": "NameError",
     "evalue": "name 'df' is not defined",
     "output_type": "error",
     "traceback": [
      "\u001b[1;31m---------------------------------------------------------------------------\u001b[0m",
      "\u001b[1;31mNameError\u001b[0m                                 Traceback (most recent call last)",
      "Cell \u001b[1;32mIn[3], line 2\u001b[0m\n\u001b[0;32m      1\u001b[0m dataset_name \u001b[38;5;241m=\u001b[39m \u001b[38;5;124m'\u001b[39m\u001b[38;5;124mhotels_dataset_\u001b[39m\u001b[38;5;124m'\u001b[39m\u001b[38;5;241m+\u001b[39m\u001b[38;5;28mstr\u001b[39m(date\u001b[38;5;241m.\u001b[39mtoday())\u001b[38;5;241m+\u001b[39m\u001b[38;5;124m'\u001b[39m\u001b[38;5;124m.parquet\u001b[39m\u001b[38;5;124m'\u001b[39m\n\u001b[1;32m----> 2\u001b[0m \u001b[43mdf\u001b[49m\u001b[38;5;241m.\u001b[39mto_parquet(dataset_name)\n",
      "\u001b[1;31mNameError\u001b[0m: name 'df' is not defined"
     ]
    }
   ],
   "source": [
    "dataset_name = 'hotels_dataset_'+str(date.today())+'.parquet'\n",
    "df.to_parquet(dataset_name)"
   ]
  },
  {
   "cell_type": "code",
   "execution_count": 12,
   "id": "539fd923-dea8-4b5f-8547-8b74fb76b971",
   "metadata": {},
   "outputs": [],
   "source": [
    "driver.close()"
   ]
  },
  {
   "cell_type": "code",
   "execution_count": 2,
   "id": "f042edd7-76b3-4e20-b2ef-b64d74aa5c11",
   "metadata": {},
   "outputs": [],
   "source": [
    "import boto3 as b\n",
    "s3_client = b.client('s3')"
   ]
  },
  {
   "cell_type": "code",
   "execution_count": 4,
   "id": "44118284-114e-49be-ad39-0671c1002715",
   "metadata": {},
   "outputs": [],
   "source": [
    "s3_client.upload_file(Filename=os.getcwd()+'/'+dataset_name, Bucket='landing-data-bucket-5f593a', Key='hotels/'+dataset_name)"
   ]
  },
  {
   "cell_type": "code",
   "execution_count": null,
   "id": "5ae536f6-6b0e-44af-889a-4611ffa9983f",
   "metadata": {},
   "outputs": [],
   "source": []
  }
 ],
 "metadata": {
  "kernelspec": {
   "display_name": "Python 3 (ipykernel)",
   "language": "python",
   "name": "python3"
  },
  "language_info": {
   "codemirror_mode": {
    "name": "ipython",
    "version": 3
   },
   "file_extension": ".py",
   "mimetype": "text/x-python",
   "name": "python",
   "nbconvert_exporter": "python",
   "pygments_lexer": "ipython3",
   "version": "3.9.7"
  }
 },
 "nbformat": 4,
 "nbformat_minor": 5
}
